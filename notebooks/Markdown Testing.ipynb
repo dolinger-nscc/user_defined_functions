{
 "cells": [
  {
   "cell_type": "markdown",
   "id": "5cfd4b83-66dc-498a-af34-d53593cff0ef",
   "metadata": {},
   "source": [
    "<img src=\"https://raw.githubusercontent.com/FortAwesome/Font-Awesome/6.x/svgs/solid/lightbulb.svg\" width=\"25\"> I have an idea!\n"
   ]
  },
  {
   "cell_type": "code",
   "execution_count": null,
   "id": "0c77549b-e99e-4340-a4ae-996e8bb6b040",
   "metadata": {},
   "outputs": [],
   "source": []
  }
 ],
 "metadata": {
  "kernelspec": {
   "display_name": "Python 3 (ipykernel)",
   "language": "python",
   "name": "python3"
  },
  "language_info": {
   "codemirror_mode": {
    "name": "ipython",
    "version": 3
   },
   "file_extension": ".py",
   "mimetype": "text/x-python",
   "name": "python",
   "nbconvert_exporter": "python",
   "pygments_lexer": "ipython3",
   "version": "3.11.8"
  }
 },
 "nbformat": 4,
 "nbformat_minor": 5
}
